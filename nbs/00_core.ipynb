{
 "cells": [
  {
   "cell_type": "markdown",
   "metadata": {},
   "source": [
    "# PRUEBA 04\n",
    "\n",
    "> *ESPERO FUNCIONE*"
   ]
  },
  {
   "cell_type": "code",
   "execution_count": null,
   "metadata": {},
   "outputs": [],
   "source": [
    "#| default_exp core"
   ]
  },
  {
   "cell_type": "code",
   "execution_count": null,
   "metadata": {},
   "outputs": [],
   "source": [
    "#| hide\n",
    "from nbdev.showdoc import *\n",
    "from nbdev.showdoc import show_doc"
   ]
  },
  {
   "cell_type": "code",
   "execution_count": null,
   "metadata": {},
   "outputs": [
    {
     "name": "stdout",
     "output_type": "stream",
     "text": [
      "Hola\n",
      "Hola Raul\n",
      "Espero te encuentres bien\n"
     ]
    },
    {
     "data": {
      "text/markdown": [
       "---\n",
       "\n",
       "### saludo_a\n",
       "\n",
       ">      saludo_a (to)\n",
       "\n",
       "*Imprime Hola a un nombre*"
      ],
      "text/plain": [
       "---\n",
       "\n",
       "### saludo_a\n",
       "\n",
       ">      saludo_a (to)\n",
       "\n",
       "*Imprime Hola a un nombre*"
      ]
     },
     "execution_count": null,
     "metadata": {},
     "output_type": "execute_result"
    }
   ],
   "source": [
    "#| export\n",
    "def saludo ():\n",
    "    \"\"\"Imprime Hola\"\"\"\n",
    "    print(\"Hola\")\n",
    "    return\n",
    "\n",
    "saludo()\n",
    "\n",
    "#| export\n",
    "def saludo_a(to):\n",
    "    \"\"\"Imprime Hola a un nombre\"\"\"\n",
    "    print(\"Hola\",to)\n",
    "    print(\"Espero te encuentres bien\")\n",
    "    return\n",
    "\n",
    "saludo_a(\"Raul\")\n",
    "show_doc(saludo_a)"
   ]
  },
  {
   "cell_type": "code",
   "execution_count": null,
   "metadata": {},
   "outputs": [],
   "source": [
    "#| hide\n",
    "import nbdev; nbdev.nbdev_export()"
   ]
  },
  {
   "cell_type": "code",
   "execution_count": null,
   "metadata": {},
   "outputs": [],
   "source": []
  }
 ],
 "metadata": {
  "kernelspec": {
   "display_name": "python3",
   "language": "python",
   "name": "python3"
  }
 },
 "nbformat": 4,
 "nbformat_minor": 4
}
